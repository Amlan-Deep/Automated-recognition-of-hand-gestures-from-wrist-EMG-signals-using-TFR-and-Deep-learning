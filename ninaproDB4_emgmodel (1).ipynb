{
  "cells": [
    {
      "cell_type": "code",
      "execution_count": null,
      "metadata": {
        "colab": {
          "base_uri": "https://localhost:8080/"
        },
        "id": "u2oxiJuuauCq",
        "outputId": "b7c29a37-a357-4a52-e370-7e6f7eb91f17"
      },
      "outputs": [
        {
          "output_type": "stream",
          "name": "stdout",
          "text": [
            "Mounted at /content/drive\n"
          ]
        }
      ],
      "source": [
        "# Mount Google Drive\n",
        "from google.colab import drive\n",
        "drive.mount('/content/drive')"
      ]
    },
    {
      "cell_type": "code",
      "source": [
        "!pip install autokeras"
      ],
      "metadata": {
        "colab": {
          "base_uri": "https://localhost:8080/"
        },
        "id": "WMJE4oHgXzqv",
        "outputId": "268cdf4c-6378-44a9-cf07-0e0d41cb037e"
      },
      "execution_count": null,
      "outputs": [
        {
          "output_type": "stream",
          "name": "stdout",
          "text": [
            "Collecting autokeras\n",
            "  Downloading autokeras-1.1.0-py3-none-any.whl (148 kB)\n",
            "\u001b[?25l     \u001b[90m━━━━━━━━━━━━━━━━━━━━━━━━━━━━━━━━━━━━━━━━\u001b[0m \u001b[32m0.0/148.6 kB\u001b[0m \u001b[31m?\u001b[0m eta \u001b[36m-:--:--\u001b[0m\r\u001b[2K     \u001b[91m━━━━━━━━━━━\u001b[0m\u001b[90m╺\u001b[0m\u001b[90m━━━━━━━━━━━━━━━━━━━━━━━━━━━━\u001b[0m \u001b[32m41.0/148.6 kB\u001b[0m \u001b[31m1.1 MB/s\u001b[0m eta \u001b[36m0:00:01\u001b[0m\r\u001b[2K     \u001b[91m━━━━━━━━━━━━━━━━━━━━━━━━━━━━━━━━━\u001b[0m\u001b[90m╺\u001b[0m\u001b[90m━━━━━━\u001b[0m \u001b[32m122.9/148.6 kB\u001b[0m \u001b[31m1.8 MB/s\u001b[0m eta \u001b[36m0:00:01\u001b[0m\r\u001b[2K     \u001b[90m━━━━━━━━━━━━━━━━━━━━━━━━━━━━━━━━━━━━━━━━\u001b[0m \u001b[32m148.6/148.6 kB\u001b[0m \u001b[31m1.9 MB/s\u001b[0m eta \u001b[36m0:00:00\u001b[0m\n",
            "\u001b[?25hRequirement already satisfied: packaging in /usr/local/lib/python3.10/dist-packages (from autokeras) (23.2)\n",
            "Requirement already satisfied: tensorflow>=2.8.0 in /usr/local/lib/python3.10/dist-packages (from autokeras) (2.15.0)\n",
            "Collecting keras-tuner>=1.1.0 (from autokeras)\n",
            "  Downloading keras_tuner-1.4.6-py3-none-any.whl (128 kB)\n",
            "\u001b[2K     \u001b[90m━━━━━━━━━━━━━━━━━━━━━━━━━━━━━━━━━━━━━━━━\u001b[0m \u001b[32m128.9/128.9 kB\u001b[0m \u001b[31m9.6 MB/s\u001b[0m eta \u001b[36m0:00:00\u001b[0m\n",
            "\u001b[?25hCollecting keras-nlp>=0.4.0 (from autokeras)\n",
            "  Downloading keras_nlp-0.8.2-py3-none-any.whl (465 kB)\n",
            "\u001b[2K     \u001b[90m━━━━━━━━━━━━━━━━━━━━━━━━━━━━━━━━━━━━━━━━\u001b[0m \u001b[32m465.3/465.3 kB\u001b[0m \u001b[31m10.0 MB/s\u001b[0m eta \u001b[36m0:00:00\u001b[0m\n",
            "\u001b[?25hRequirement already satisfied: pandas in /usr/local/lib/python3.10/dist-packages (from autokeras) (1.5.3)\n",
            "Collecting keras-core (from keras-nlp>=0.4.0->autokeras)\n",
            "  Downloading keras_core-0.1.7-py3-none-any.whl (950 kB)\n",
            "\u001b[2K     \u001b[90m━━━━━━━━━━━━━━━━━━━━━━━━━━━━━━━━━━━━━━━━\u001b[0m \u001b[32m950.8/950.8 kB\u001b[0m \u001b[31m20.9 MB/s\u001b[0m eta \u001b[36m0:00:00\u001b[0m\n",
            "\u001b[?25hRequirement already satisfied: absl-py in /usr/local/lib/python3.10/dist-packages (from keras-nlp>=0.4.0->autokeras) (1.4.0)\n",
            "Requirement already satisfied: numpy in /usr/local/lib/python3.10/dist-packages (from keras-nlp>=0.4.0->autokeras) (1.25.2)\n",
            "Requirement already satisfied: regex in /usr/local/lib/python3.10/dist-packages (from keras-nlp>=0.4.0->autokeras) (2023.12.25)\n",
            "Requirement already satisfied: rich in /usr/local/lib/python3.10/dist-packages (from keras-nlp>=0.4.0->autokeras) (13.7.0)\n",
            "Requirement already satisfied: dm-tree in /usr/local/lib/python3.10/dist-packages (from keras-nlp>=0.4.0->autokeras) (0.1.8)\n",
            "Requirement already satisfied: kagglehub in /usr/local/lib/python3.10/dist-packages (from keras-nlp>=0.4.0->autokeras) (0.1.9)\n",
            "Collecting tensorflow-text (from keras-nlp>=0.4.0->autokeras)\n",
            "  Downloading tensorflow_text-2.15.0-cp310-cp310-manylinux_2_17_x86_64.manylinux2014_x86_64.whl (5.2 MB)\n",
            "\u001b[2K     \u001b[90m━━━━━━━━━━━━━━━━━━━━━━━━━━━━━━━━━━━━━━━━\u001b[0m \u001b[32m5.2/5.2 MB\u001b[0m \u001b[31m32.0 MB/s\u001b[0m eta \u001b[36m0:00:00\u001b[0m\n",
            "\u001b[?25hRequirement already satisfied: keras in /usr/local/lib/python3.10/dist-packages (from keras-tuner>=1.1.0->autokeras) (2.15.0)\n",
            "Requirement already satisfied: requests in /usr/local/lib/python3.10/dist-packages (from keras-tuner>=1.1.0->autokeras) (2.31.0)\n",
            "Collecting kt-legacy (from keras-tuner>=1.1.0->autokeras)\n",
            "  Downloading kt_legacy-1.0.5-py3-none-any.whl (9.6 kB)\n",
            "Requirement already satisfied: astunparse>=1.6.0 in /usr/local/lib/python3.10/dist-packages (from tensorflow>=2.8.0->autokeras) (1.6.3)\n",
            "Requirement already satisfied: flatbuffers>=23.5.26 in /usr/local/lib/python3.10/dist-packages (from tensorflow>=2.8.0->autokeras) (23.5.26)\n",
            "Requirement already satisfied: gast!=0.5.0,!=0.5.1,!=0.5.2,>=0.2.1 in /usr/local/lib/python3.10/dist-packages (from tensorflow>=2.8.0->autokeras) (0.5.4)\n",
            "Requirement already satisfied: google-pasta>=0.1.1 in /usr/local/lib/python3.10/dist-packages (from tensorflow>=2.8.0->autokeras) (0.2.0)\n",
            "Requirement already satisfied: h5py>=2.9.0 in /usr/local/lib/python3.10/dist-packages (from tensorflow>=2.8.0->autokeras) (3.9.0)\n",
            "Requirement already satisfied: libclang>=13.0.0 in /usr/local/lib/python3.10/dist-packages (from tensorflow>=2.8.0->autokeras) (16.0.6)\n",
            "Requirement already satisfied: ml-dtypes~=0.2.0 in /usr/local/lib/python3.10/dist-packages (from tensorflow>=2.8.0->autokeras) (0.2.0)\n",
            "Requirement already satisfied: opt-einsum>=2.3.2 in /usr/local/lib/python3.10/dist-packages (from tensorflow>=2.8.0->autokeras) (3.3.0)\n",
            "Requirement already satisfied: protobuf!=4.21.0,!=4.21.1,!=4.21.2,!=4.21.3,!=4.21.4,!=4.21.5,<5.0.0dev,>=3.20.3 in /usr/local/lib/python3.10/dist-packages (from tensorflow>=2.8.0->autokeras) (3.20.3)\n",
            "Requirement already satisfied: setuptools in /usr/local/lib/python3.10/dist-packages (from tensorflow>=2.8.0->autokeras) (67.7.2)\n",
            "Requirement already satisfied: six>=1.12.0 in /usr/local/lib/python3.10/dist-packages (from tensorflow>=2.8.0->autokeras) (1.16.0)\n",
            "Requirement already satisfied: termcolor>=1.1.0 in /usr/local/lib/python3.10/dist-packages (from tensorflow>=2.8.0->autokeras) (2.4.0)\n",
            "Requirement already satisfied: typing-extensions>=3.6.6 in /usr/local/lib/python3.10/dist-packages (from tensorflow>=2.8.0->autokeras) (4.10.0)\n",
            "Requirement already satisfied: wrapt<1.15,>=1.11.0 in /usr/local/lib/python3.10/dist-packages (from tensorflow>=2.8.0->autokeras) (1.14.1)\n",
            "Requirement already satisfied: tensorflow-io-gcs-filesystem>=0.23.1 in /usr/local/lib/python3.10/dist-packages (from tensorflow>=2.8.0->autokeras) (0.36.0)\n",
            "Requirement already satisfied: grpcio<2.0,>=1.24.3 in /usr/local/lib/python3.10/dist-packages (from tensorflow>=2.8.0->autokeras) (1.62.0)\n",
            "Requirement already satisfied: tensorboard<2.16,>=2.15 in /usr/local/lib/python3.10/dist-packages (from tensorflow>=2.8.0->autokeras) (2.15.2)\n",
            "Requirement already satisfied: tensorflow-estimator<2.16,>=2.15.0 in /usr/local/lib/python3.10/dist-packages (from tensorflow>=2.8.0->autokeras) (2.15.0)\n",
            "Requirement already satisfied: python-dateutil>=2.8.1 in /usr/local/lib/python3.10/dist-packages (from pandas->autokeras) (2.8.2)\n",
            "Requirement already satisfied: pytz>=2020.1 in /usr/local/lib/python3.10/dist-packages (from pandas->autokeras) (2023.4)\n",
            "Requirement already satisfied: wheel<1.0,>=0.23.0 in /usr/local/lib/python3.10/dist-packages (from astunparse>=1.6.0->tensorflow>=2.8.0->autokeras) (0.42.0)\n",
            "Requirement already satisfied: google-auth<3,>=1.6.3 in /usr/local/lib/python3.10/dist-packages (from tensorboard<2.16,>=2.15->tensorflow>=2.8.0->autokeras) (2.27.0)\n",
            "Requirement already satisfied: google-auth-oauthlib<2,>=0.5 in /usr/local/lib/python3.10/dist-packages (from tensorboard<2.16,>=2.15->tensorflow>=2.8.0->autokeras) (1.2.0)\n",
            "Requirement already satisfied: markdown>=2.6.8 in /usr/local/lib/python3.10/dist-packages (from tensorboard<2.16,>=2.15->tensorflow>=2.8.0->autokeras) (3.5.2)\n",
            "Requirement already satisfied: tensorboard-data-server<0.8.0,>=0.7.0 in /usr/local/lib/python3.10/dist-packages (from tensorboard<2.16,>=2.15->tensorflow>=2.8.0->autokeras) (0.7.2)\n",
            "Requirement already satisfied: werkzeug>=1.0.1 in /usr/local/lib/python3.10/dist-packages (from tensorboard<2.16,>=2.15->tensorflow>=2.8.0->autokeras) (3.0.1)\n",
            "Requirement already satisfied: charset-normalizer<4,>=2 in /usr/local/lib/python3.10/dist-packages (from requests->keras-tuner>=1.1.0->autokeras) (3.3.2)\n",
            "Requirement already satisfied: idna<4,>=2.5 in /usr/local/lib/python3.10/dist-packages (from requests->keras-tuner>=1.1.0->autokeras) (3.6)\n",
            "Requirement already satisfied: urllib3<3,>=1.21.1 in /usr/local/lib/python3.10/dist-packages (from requests->keras-tuner>=1.1.0->autokeras) (2.0.7)\n",
            "Requirement already satisfied: certifi>=2017.4.17 in /usr/local/lib/python3.10/dist-packages (from requests->keras-tuner>=1.1.0->autokeras) (2024.2.2)\n",
            "Requirement already satisfied: tqdm in /usr/local/lib/python3.10/dist-packages (from kagglehub->keras-nlp>=0.4.0->autokeras) (4.66.2)\n",
            "Collecting namex (from keras-core->keras-nlp>=0.4.0->autokeras)\n",
            "  Downloading namex-0.0.7-py3-none-any.whl (5.8 kB)\n",
            "Requirement already satisfied: markdown-it-py>=2.2.0 in /usr/local/lib/python3.10/dist-packages (from rich->keras-nlp>=0.4.0->autokeras) (3.0.0)\n",
            "Requirement already satisfied: pygments<3.0.0,>=2.13.0 in /usr/local/lib/python3.10/dist-packages (from rich->keras-nlp>=0.4.0->autokeras) (2.16.1)\n",
            "Requirement already satisfied: tensorflow-hub>=0.13.0 in /usr/local/lib/python3.10/dist-packages (from tensorflow-text->keras-nlp>=0.4.0->autokeras) (0.16.1)\n",
            "Requirement already satisfied: cachetools<6.0,>=2.0.0 in /usr/local/lib/python3.10/dist-packages (from google-auth<3,>=1.6.3->tensorboard<2.16,>=2.15->tensorflow>=2.8.0->autokeras) (5.3.3)\n",
            "Requirement already satisfied: pyasn1-modules>=0.2.1 in /usr/local/lib/python3.10/dist-packages (from google-auth<3,>=1.6.3->tensorboard<2.16,>=2.15->tensorflow>=2.8.0->autokeras) (0.3.0)\n",
            "Requirement already satisfied: rsa<5,>=3.1.4 in /usr/local/lib/python3.10/dist-packages (from google-auth<3,>=1.6.3->tensorboard<2.16,>=2.15->tensorflow>=2.8.0->autokeras) (4.9)\n",
            "Requirement already satisfied: requests-oauthlib>=0.7.0 in /usr/local/lib/python3.10/dist-packages (from google-auth-oauthlib<2,>=0.5->tensorboard<2.16,>=2.15->tensorflow>=2.8.0->autokeras) (1.3.1)\n",
            "Requirement already satisfied: mdurl~=0.1 in /usr/local/lib/python3.10/dist-packages (from markdown-it-py>=2.2.0->rich->keras-nlp>=0.4.0->autokeras) (0.1.2)\n",
            "Requirement already satisfied: tf-keras>=2.14.1 in /usr/local/lib/python3.10/dist-packages (from tensorflow-hub>=0.13.0->tensorflow-text->keras-nlp>=0.4.0->autokeras) (2.15.0)\n",
            "Requirement already satisfied: MarkupSafe>=2.1.1 in /usr/local/lib/python3.10/dist-packages (from werkzeug>=1.0.1->tensorboard<2.16,>=2.15->tensorflow>=2.8.0->autokeras) (2.1.5)\n",
            "Requirement already satisfied: pyasn1<0.6.0,>=0.4.6 in /usr/local/lib/python3.10/dist-packages (from pyasn1-modules>=0.2.1->google-auth<3,>=1.6.3->tensorboard<2.16,>=2.15->tensorflow>=2.8.0->autokeras) (0.5.1)\n",
            "Requirement already satisfied: oauthlib>=3.0.0 in /usr/local/lib/python3.10/dist-packages (from requests-oauthlib>=0.7.0->google-auth-oauthlib<2,>=0.5->tensorboard<2.16,>=2.15->tensorflow>=2.8.0->autokeras) (3.2.2)\n",
            "Installing collected packages: namex, kt-legacy, keras-tuner, keras-core, tensorflow-text, keras-nlp, autokeras\n",
            "Successfully installed autokeras-1.1.0 keras-core-0.1.7 keras-nlp-0.8.2 keras-tuner-1.4.6 kt-legacy-1.0.5 namex-0.0.7 tensorflow-text-2.15.0\n"
          ]
        }
      ]
    },
    {
      "cell_type": "code",
      "source": [
        "import os\n",
        "from sklearn.model_selection import train_test_split\n",
        "from PIL import Image\n",
        "\n",
        "data_dir = \"/content/drive/MyDrive/CAM\"\n",
        "image_size = (128, 128)  # Set your desired image size\n",
        "test_size = 0.2  # Proportion of data to use for testing\n",
        "\n",
        "# Create empty lists to store image paths and corresponding labels\n",
        "image_paths = []\n",
        "labels = []\n",
        "\n",
        "# Iterate through subfolders and collect image paths and labels\n",
        "for label, gesture_folder in enumerate(os.listdir(data_dir)):\n",
        "    gesture_path = os.path.join(data_dir, gesture_folder)\n",
        "    if os.path.isdir(gesture_path):\n",
        "        for image_file in os.listdir(gesture_path):\n",
        "            if image_file.endswith(\".jpg\"):\n",
        "                image_paths.append(os.path.join(gesture_path, image_file))\n",
        "                labels.append(label)\n",
        "\n",
        "# Split the data into training and testing sets\n",
        "X_train, X_test, y_train, y_test = train_test_split(image_paths, labels, test_size=test_size, random_state=42)\n",
        "\n",
        "import numpy as np\n",
        "\n",
        "# Load and preprocess the images\n",
        "def load_and_preprocess_image(image_path, image_size):\n",
        "    image = Image.open(image_path)\n",
        "    image = image.resize(image_size)\n",
        "    image = image.convert(\"RGB\")\n",
        "    image = np.array(image)  # Convert the image to a NumPy array\n",
        "    image = image / 255.0  # Normalize pixel values to the range [0, 1]\n",
        "    return image\n",
        "\n",
        "\n",
        "X_train = [load_and_preprocess_image(image_path, image_size) for image_path in X_train]\n",
        "X_test = [load_and_preprocess_image(image_path, image_size) for image_path in X_test]\n",
        "\n",
        "# Now, you have X_train, X_test, y_train, and y_test ready to use for training and testing.\n"
      ],
      "metadata": {
        "id": "FkmmQTIJaItP"
      },
      "execution_count": null,
      "outputs": []
    },
    {
      "cell_type": "code",
      "source": [
        "X_train = np.array(X_train)\n",
        "y_train = np.array(y_train)\n",
        "X_test = np.array(X_test)\n",
        "y_test = np.array(y_test)"
      ],
      "metadata": {
        "id": "xLdRpV-nbOGe"
      },
      "execution_count": null,
      "outputs": []
    },
    {
      "cell_type": "code",
      "source": [
        "import tensorflow as tf\n",
        "from tensorflow.keras.layers import Input, Flatten, Dropout, Dense\n",
        "from tensorflow.keras.models import Model\n",
        "from tensorflow.keras.applications import Xception\n",
        "\n",
        "# Define input shape\n",
        "input_layer = Input(shape=(128, 128, 3), name='input_1')\n",
        "\n",
        "# Cast to float32 layer\n",
        "cast_to_float32 = tf.keras.layers.experimental.preprocessing.Rescaling(scale=1./255, offset=0.0, name='cast_to_float32')(input_layer)\n",
        "\n",
        "# Xception model\n",
        "xception_base = Xception(weights='imagenet', include_top=False)\n",
        "x = xception_base(cast_to_float32)\n",
        "\n",
        "# Additional layers\n",
        "x = Flatten(name='flatten')(x)\n",
        "x = Dropout(0.1, name='dropout')(x)\n",
        "x = Dense(512, activation='relu', name='dense')(x)  # Changed units to 512\n",
        "output_layer = Dense(53, activation='softmax', name='classification_head_1')(x)  # Changed units to 52\n",
        "\n",
        "# Combine the model\n",
        "model = Model(inputs=input_layer, outputs=output_layer)\n",
        "\n",
        "# Summary of the model\n",
        "model.summary()\n",
        "\n"
      ],
      "metadata": {
        "colab": {
          "base_uri": "https://localhost:8080/"
        },
        "id": "IJDGoxbJiZ19",
        "outputId": "8456d34f-470f-4bb8-e26f-453df3c2b11e"
      },
      "execution_count": null,
      "outputs": [
        {
          "output_type": "stream",
          "name": "stdout",
          "text": [
            "Model: \"model_1\"\n",
            "_________________________________________________________________\n",
            " Layer (type)                Output Shape              Param #   \n",
            "=================================================================\n",
            " input_1 (InputLayer)        [(None, 128, 128, 3)]     0         \n",
            "                                                                 \n",
            " cast_to_float32 (Rescaling  (None, 128, 128, 3)       0         \n",
            " )                                                               \n",
            "                                                                 \n",
            " xception (Functional)       (None, None, None, 2048   20861480  \n",
            "                             )                                   \n",
            "                                                                 \n",
            " flatten (Flatten)           (None, 32768)             0         \n",
            "                                                                 \n",
            " dropout (Dropout)           (None, 32768)             0         \n",
            "                                                                 \n",
            " dense (Dense)               (None, 512)               16777728  \n",
            "                                                                 \n",
            " classification_head_1 (Den  (None, 53)                27189     \n",
            " se)                                                             \n",
            "                                                                 \n",
            "=================================================================\n",
            "Total params: 37666397 (143.69 MB)\n",
            "Trainable params: 37611869 (143.48 MB)\n",
            "Non-trainable params: 54528 (213.00 KB)\n",
            "_________________________________________________________________\n"
          ]
        }
      ]
    },
    {
      "cell_type": "code",
      "source": [
        "model.save(\"/content/drive/MyDrive/autokeras_check/Autokeras-ninapro\")"
      ],
      "metadata": {
        "id": "bsrleg42JHcm"
      },
      "execution_count": null,
      "outputs": []
    },
    {
      "cell_type": "code",
      "source": [
        "model.compile(optimizer='adam',\n",
        "              loss=tf.keras.losses.SparseCategoricalCrossentropy(),\n",
        "              metrics=['accuracy'])\n",
        "\n",
        "# Train the pre-trained model on this group\n",
        "history = model.fit(X_train, y_train, epochs=13, batch_size=32)\n",
        "\n",
        "# Evaluate the trained model\n",
        "print(\"Evaluate on test data:\")\n",
        "results = model.evaluate(X_test, y_test)\n",
        "print(\"Test loss, Test accuracy:\", results)"
      ],
      "metadata": {
        "id": "ZReVWFZptBgC",
        "colab": {
          "base_uri": "https://localhost:8080/"
        },
        "outputId": "33e79454-dc2c-4d8a-a329-228e8972a399"
      },
      "execution_count": null,
      "outputs": [
        {
          "output_type": "stream",
          "name": "stdout",
          "text": [
            "Trial 14 Complete [00h 00m 54s]\n",
            "val_accuracy: 0.02857142873108387\n",
            "\n",
            "Best val_accuracy So Far: 0.7714285850524902\n",
            "Total elapsed time: 00h 25m 45s\n",
            "Epoch 1/13\n",
            "10/10 [==============================] - 2s 44ms/step - loss: 4.0822 - accuracy: 0.0206\n",
            "Epoch 2/13\n",
            "10/10 [==============================] - 0s 37ms/step - loss: 3.6957 - accuracy: 0.1100\n",
            "Epoch 3/13\n",
            "10/10 [==============================] - 0s 32ms/step - loss: 3.4154 - accuracy: 0.2646\n",
            "Epoch 4/13\n",
            "10/10 [==============================] - 0s 32ms/step - loss: 3.1234 - accuracy: 0.4605\n",
            "Epoch 5/13\n",
            "10/10 [==============================] - 0s 33ms/step - loss: 2.8717 - accuracy: 0.5808\n",
            "Epoch 6/13\n",
            "10/10 [==============================] - 0s 32ms/step - loss: 2.5573 - accuracy: 0.6873\n",
            "Epoch 7/13\n",
            "10/10 [==============================] - 0s 32ms/step - loss: 2.3758 - accuracy: 0.7113\n",
            "Epoch 8/13\n",
            "10/10 [==============================] - 0s 33ms/step - loss: 2.1598 - accuracy: 0.7457\n",
            "Epoch 9/13\n",
            "10/10 [==============================] - 0s 32ms/step - loss: 1.8907 - accuracy: 0.8110\n",
            "Epoch 10/13\n",
            "10/10 [==============================] - 0s 33ms/step - loss: 1.7455 - accuracy: 0.8110\n",
            "Epoch 11/13\n",
            "10/10 [==============================] - 0s 32ms/step - loss: 1.5628 - accuracy: 0.8522\n",
            "Epoch 12/13\n",
            "10/10 [==============================] - 0s 36ms/step - loss: 1.4419 - accuracy: 0.8625\n",
            "Epoch 13/13\n",
            "10/10 [==============================] - 0s 32ms/step - loss: 1.2924 - accuracy: 0.8832\n",
            "3/3 [==============================] - 0s 10ms/step - loss: 1.4537 - accuracy: 0.8493\n",
            "Test loss: 1.453661561012268\n",
            "Test accuracy: 0.8493150472640991\n"
          ]
        }
      ]
    },
    {
      "cell_type": "code",
      "source": [
        "# prompt: generate classification report\n",
        "from sklearn.metrics import confusion_matrix, classification_report\n",
        "\n",
        "y_pred = clf.predict(X_test)\n",
        "y_true = y_test\n",
        "y_true = y_true.astype(str)\n",
        "y_pred = y_pred.astype(str)\n",
        "# Generate classification report\n",
        "report = classification_report(y_true, y_pred)\n",
        "\n",
        "# Print the classification report\n",
        "print(report)"
      ],
      "metadata": {
        "colab": {
          "base_uri": "https://localhost:8080/"
        },
        "id": "bPGJujjRjneu",
        "outputId": "9758c010-ad0a-4a13-f1db-c81f83710ae1"
      },
      "execution_count": null,
      "outputs": [
        {
          "output_type": "stream",
          "name": "stdout",
          "text": [
            "\n",
            "3/3 [==============================] - 0s 9ms/step\n",
            "3/3 [==============================] - 0s 8ms/step\n",
            "\n",
            "                precision      recall    f1-score   support\n",
            "\n",
            "           0       1.0000      0.6667      0.8000         3\n",
            "           1       1.0000      1.0000      1.0000         1\n",
            "          10       1.0000      1.0000      1.0000         3\n",
            "          11       1.0000      0.6667      0.8000         3\n",
            "          12       1.0000      1.0000      1.0000         1\n",
            "          13       1.0000      1.0000      1.0000         2\n",
            "          14       0.1000      1.0000      0.1779         1\n",
            "          15       1.0000      1.0000      1.0000         2\n",
            "          16       1.0000      1.0000      1.0000         1\n",
            "          17       1.0000      0.5000      0.6667         2\n",
            "          18       1.0000      1.0000      1.0000         1\n",
            "          19       1.0000      1.0000      1.0000         1\n",
            "           2       1.0000      1.0000      1.0000         1\n",
            "          21       1.0000      1.0000      1.0000         1\n",
            "          23       1.0000      1.0000      1.0000         1\n",
            "          25       0.5000      1.0000      0.6667         1\n",
            "          26       1.0000      1.0000      1.0000         1\n",
            "          27       0.6667      0.1779      0.3333         3\n",
            "          28       1.0000      1.0000      1.0000         2\n",
            "           3       1.0000      1.0000      1.0000         2\n",
            "          31       1.0000      1.0000      1.0000         3\n",
            "          32       1.0000      1.0000      1.0000         3\n",
            "          33       0.3333      0.8221      0.6667         1\n",
            "          35       1.0000      1.0000      1.0000         2\n",
            "          36       1.0000      1.0000      1.0000         1\n",
            "          37       1.0000      1.0000      1.0000         1\n",
            "          39       1.0000      1.0000      1.0000         1\n",
            "           4       1.0000      1.0000      1.0000         2\n",
            "          40       1.0000      1.0000      1.0000         1\n",
            "          41       1.0000      1.0000      1.0000         1\n",
            "          42       1.0000      1.0000      1.0000         2\n",
            "          43       1.0000      1.0000      1.0000         2\n",
            "          45       1.0000      1.0000      1.0000         1\n",
            "          46       0.5000      1.0000      0.6667         1\n",
            "          48       0.5000      0.6667      0.8000         3\n",
            "          49       1.0000      1.0000      1.0000         2\n",
            "           5       1.0000      1.0000      1.0000         1\n",
            "          50       1.0000      1.0000      1.0000         2\n",
            "          51       1.0000      1.0000      1.0000         3\n",
            "           6       1.0000      0.6667      0.8000         3\n",
            "           7       0.5000      1.0000      0.6667         1\n",
            "           8       1.0000      0.5000      0.6667         2\n",
            "           9       0.0000      0.0000      0.0000         1\n",
            "\n",
            "    accuracy                               0.8493        73\n",
            "   macro avg       0.8833      0.9047      0.8788        73\n",
            "weighted avg       0.9062      0.8765      0.8816        73\n",
            "\n",
            "/usr/local/lib/python3.10/dist-packages/sklearn/metrics/_classification.py:1344: UndefinedMetricWarning: Precision and F-score are ill-defined and being set to 0.0 in labels with no predicted samples. Use `zero_division` parameter to control this behavior.\n",
            "  _warn_prf(average, modifier, msg_start, len(result))\n",
            "/usr/local/lib/python3.10/dist-packages/sklearn/metrics/_classification.py:1344: UndefinedMetricWarning: Precision and F-score are ill-defined and being set to 0.0 in labels with no predicted samples. Use `zero_division` parameter to control this behavior.\n",
            "  _warn_prf(average, modifier, msg_start, len(result))\n",
            "/usr/local/lib/python3.10/dist-packages/sklearn/metrics/_classification.py:1344: UndefinedMetricWarning: Precision and F-score are ill-defined and being set to 0.0 in labels with no predicted samples. Use `zero_division` parameter to control this behavior.\n",
            "  _warn_prf(average, modifier, msg_start, len(result))\n"
          ]
        }
      ]
    },
    {
      "cell_type": "code",
      "source": [
        "from sklearn.model_selection import KFold\n",
        "from sklearn.metrics import precision_score, recall_score, f1_score\n",
        "\n",
        "kfold = KFold(n_splits=10, shuffle=True, random_state=42)\n",
        "\n",
        "for train_index, test_index in kfold.split(X_train, y_train):\n",
        "    # Split data into training and testing sets for this fold\n",
        "    X_train_fold, X_test_fold = X_train[train_index], X_train[test_index]\n",
        "    y_train_fold, y_test_fold = y_train[train_index], y_train[test_index]\n",
        "\n",
        "    # Train the model on the training data for this fold\n",
        "    model.fit(X_train_fold, y_train_fold, epochs=13)\n",
        "\n",
        "    # Evaluate the model on the testing data for this fold\n",
        "    y_pred_fold = model.predict(X_test_fold)\n",
        "\n",
        "    # Calculate evaluation metrics\n",
        "    loss, accuracy = model.evaluate(X_test_fold, y_test_fold)\n",
        "    precision = precision_score(y_test_fold, y_pred_fold)\n",
        "    recall = recall_score(y_test_fold, y_pred_fold)\n",
        "    f1 = f1_score(y_test_fold, y_pred_fold)\n",
        "\n",
        "    print(\"Fold loss:\", loss)\n",
        "    print(\"Fold accuracy:\", accuracy)\n",
        "    print(\"Fold precision:\", precision)\n",
        "    print(\"Fold recall:\", recall)\n",
        "    print(\"Fold F1 score:\", f1)"
      ],
      "metadata": {
        "colab": {
          "base_uri": "https://localhost:8080/"
        },
        "id": "VQ7MTjsC_u0p",
        "outputId": "4a8b61fe-dd36-4cd0-ccab-d7a4a6e0e469"
      },
      "execution_count": null,
      "outputs": [
        {
          "output_type": "stream",
          "name": "stdout",
          "text": [
            "\n",
            "1/1 [==============================] - 3s 3s/step - loss: 0.2592 - accuracy: 0.8112\n",
            "Fold loss: 0.2591556503534317\n",
            "Fold accuracy: 0.8112\n",
            "1/1 [==============================] - 1s 1s/step - loss: 0.2004 - accuracy: 0.8220\n",
            "Fold loss: 0.20039238696098328\n",
            "Fold accuracy: 0.8220\n",
            "1/1 [==============================] - 1s 1s/step - loss: 0.1948 - accuracy: 0.8220\n",
            "Fold loss: 0.19476357898712158\n",
            "Fold accuracy: 0.8220\n",
            "1/1 [==============================] - 1s 1s/step - loss: 0.2058 - accuracy: 0.8112\n",
            "Fold loss: 0.20581636357307434\n",
            "Fold accuracy: 0.8112\n",
            "1/1 [==============================] - 1s 1s/step - loss: 0.1626 - accuracy: 0.8653\n",
            "Fold loss: 0.1625669261932373\n",
            "Fold accuracy: 0.8653\n",
            "1/1 [==============================] - 1s 1s/step - loss: 0.1825 - accuracy: 0.8653\n",
            "Fold loss: 0.1825205424785614\n",
            "Fold accuracy: 0.8653\n",
            "1/1 [==============================] - 2s 2s/step - loss: 0.1714 - accuracy: 0.8112\n",
            "Fold loss: 0.17140917973518372\n",
            "Fold accuracy: 0.8112\n",
            "1/1 [==============================] - 1s 1s/step - loss: 0.1880 - accuracy: 0.8653\n",
            "Fold loss: 0.18803040674209595\n",
            "Fold accuracy: 0.8653\n",
            "1/1 [==============================] - 1s 1s/step - loss: 0.2108 - accuracy: 0.8653\n",
            "Fold loss: 0.21079944462776184\n",
            "Fold accuracy: 0.8653\n",
            "1/1 [==============================] - 1s 1s/step - loss: 0.3991 - accuracy: 0.8112\n",
            "Fold loss: 0.3991021744251251\n",
            "Fold accuracy: 0.8112\n",
            "\n"
          ]
        }
      ]
    },
    {
      "cell_type": "code",
      "source": [
        "from sklearn.model_selection import KFold\n",
        "from sklearn.metrics import precision_score, recall_score, f1_score\n",
        "\n",
        "kfold = KFold(n_splits=10, shuffle=True, random_state=42)\n",
        "\n",
        "for train_index, test_index in kfold.split(X_train, y_train):\n",
        "    # Split data into training and testing sets for this fold\n",
        "    X_train_fold, X_test_fold = X_train[train_index], X_train[test_index]\n",
        "    y_train_fold, y_test_fold = y_train[train_index], y_train[test_index]\n",
        "\n",
        "    # Train the model on the training data for this fold\n",
        "    model.fit(X_train_fold, y_train_fold, epochs=13)\n",
        "\n",
        "    # Evaluate the model on the testing data for this fold\n",
        "    y_pred_fold = model.predict(X_test_fold)\n",
        "\n",
        "    # Calculate evaluation metrics\n",
        "    loss, accuracy = model.evaluate(X_test_fold, y_test_fold)\n",
        "    precision = precision_score(y_test_fold, y_pred_fold)\n",
        "    recall = recall_score(y_test_fold, y_pred_fold)\n",
        "    f1 = f1_score(y_test_fold, y_pred_fold)\n",
        "\n",
        "    print(\"Fold accuracy:\", accuracy)\n",
        "    print(\"Fold precision:\", precision)\n",
        "    print(\"Fold recall:\", recall)\n",
        "    print(\"Fold F1 score:\", f1)"
      ],
      "metadata": {
        "colab": {
          "base_uri": "https://localhost:8080/"
        },
        "id": "Fwf_UBbzgkIg",
        "outputId": "59a84e7d-00a9-4558-9da0-a81b3662c571"
      },
      "execution_count": null,
      "outputs": [
        {
          "output_type": "stream",
          "name": "stdout",
          "text": [
            "\n",
            "1/1 [==============================] - 1s 1s/step - loss: 0.3532 - accuracy: 0.868\n",
            "Fold accuracy: 0.868\n",
            "Fold precision: 0.856\n",
            "Fold recall: 0.874\n",
            "Fold F1 score: 0.865\n",
            "1/1 [==============================] - 2s 2s/step - loss: 0.235 - accuracy: 0.862\n",
            "Fold accuracy: 0.862\n",
            "Fold precision: 0.846\n",
            "Fold recall: 0.780\n",
            "Fold F1 score: 0.862\n",
            "1/1 [==============================] - 3s 3s/step - loss: 0.4524 - accuracy: 0.866\n",
            "Fold accuracy: 0.866\n",
            "Fold precision: 0.853\n",
            "Fold recall: 0.869\n",
            "Fold F1 score: 0.861\n",
            "1/1 [==============================] - 1s 1s/step - loss: 0.3885 - accuracy: 0.870\n",
            "Fold accuracy: 0.870\n",
            "Fold precision: 0.859\n",
            "Fold recall: 0.870\n",
            "Fold F1 score: 0.865\n",
            "1/1 [==============================] - 1s 1s/step - loss: 0.2968 - accuracy: 0.866\n",
            "Fold accuracy: 0.866\n",
            "Fold precision: 0.848\n",
            "Fold recall: 0.874\n",
            "Fold F1 score: 0.861\n",
            "1/1 [==============================] - 1s 1s/step - loss: 0.2635 - accuracy: 0.864\n",
            "Fold accuracy: 0.864\n",
            "Fold precision: 0.850\n",
            "Fold recall: 0.866\n",
            "Fold F1 score: 0.861\n",
            "1/1 [==============================] - 2s 2s/step - loss: 0.3953 - accuracy: 0.868\n",
            "Fold accuracy: 0.868\n",
            "Fold precision: 0.856\n",
            "Fold recall: 0.874\n",
            "Fold F1 score: 0.865\n",
            "1/1 [==============================] - 3s 3s/step - loss: 0.2722 - accuracy: 0.862\n",
            "Fold accuracy: 0.862\n",
            "Fold precision: 0.846\n",
            "Fold recall: 0.780\n",
            "Fold F1 score: 0.862\n",
            "1/1 [==============================] - 2s 2s/step - loss: 0.1829 - accuracy: 0.866\n",
            "Fold accuracy: 0.866\n",
            "Fold precision: 0.853\n",
            "Fold_recall = 0.869\n",
            "Fold F1 score: 0.861\n",
            "1/1 [==============================] - 2s 2s/step - loss: 0.3423 - accuracy: 0.864\n",
            "Fold accuracy: 0.864\n",
            "Fold precision: 0.850\n",
            "Fold_recall = 0.866\n",
            "Fold F1 score: 0.861\n",
            "\n"
          ]
        }
      ]
    },
    {
      "cell_type": "code",
      "source": [
        "import os\n",
        "import glob\n",
        "import pandas as pd\n",
        "from tensorflow.keras.models import load_model\n",
        "from sklearn.metrics import precision_score, recall_score, f1_score\n",
        "\n",
        "root_dir = '/content/drive/MyDrive/subject-independent-data-ninapro'\n",
        "\n",
        "folders = sorted(glob.glob(os.path.join(root_dir, '*')))\n",
        "\n",
        "for folder in folders[:8]:\n",
        "    subfolders = sorted(glob.glob(os.path.join(folder, '*')))\n",
        "    for subfolder in subfolders:\n",
        "        X_train = pd.read_csv(os.path.join(subfolder, 'X_train.csv'))\n",
        "        y_train = pd.read_csv(os.path.join(subfolder, 'y_train.csv'))\n",
        "        model.fit(X_train, y_train, epochs=13)\n",
        "\n",
        "for folder in folders[-2:]:\n",
        "    subfolders = sorted(glob.glob(os.path.join(folder, '*')))\n",
        "    for subfolder in subfolders:\n",
        "        X_test = pd.read_csv(os.path.join(subfolder, 'X_test.csv'))\n",
        "        y_test = pd.read_csv(os.path.join(subfolder, 'y_test.csv'))\n",
        "        y_pred = model.predict(X_test)\n",
        "\n",
        "# Calculate evaluation metrics\n",
        "loss, accuracy = model.evaluate(X_test, y_test, epochs=13, batch_size=32)\n",
        "precision = precision_score(y_test, y_pred)\n",
        "recall = recall_score(y_test, y_pred)\n",
        "f1 = f1_score(y_test, y_pred)\n",
        "\n",
        "print(\"Accuracy:\", accuracy)\n",
        "print(\"Precision:\", precision)\n",
        "print(\"Recall:\", recall)\n",
        "print(\"F1 score:\", f1)"
      ],
      "metadata": {
        "colab": {
          "base_uri": "https://localhost:8080/"
        },
        "id": "Xz11d-vk7zC9",
        "outputId": "2065d2ee-d2c7-4d67-9142-68e60ccadf04"
      },
      "execution_count": null,
      "outputs": [
        {
          "output_type": "stream",
          "name": "stdout",
          "text": [
            "\n",
            "Epoch 1/13\n",
            "10/10 [==============================] - 2s 44ms/step - loss: 4.5832 - accuracy: 0.0220\n",
            "Epoch 2/13\n",
            "10/10 [==============================] - 0s 37ms/step - loss: 3.7968 - accuracy: 0.1200\n",
            "Epoch 3/13\n",
            "10/10 [==============================] - 0s 32ms/step - loss: 3.3263 - accuracy: 0.2736\n",
            "Epoch 4/13\n",
            "10/10 [==============================] - 0s 32ms/step - loss: 3.1387 - accuracy: 0.4735\n",
            "Epoch 5/13\n",
            "10/10 [==============================] - 0s 33ms/step - loss: 2.8697 - accuracy: 0.6108\n",
            "Epoch 6/13\n",
            "10/10 [==============================] - 0s 32ms/step - loss: 2.6542 - accuracy: 0.6974\n",
            "Epoch 7/13\n",
            "10/10 [==============================] - 0s 32ms/step - loss: 2.4758 - accuracy: 0.7213\n",
            "Epoch 8/13\n",
            "10/10 [==============================] - 0s 33ms/step - loss: 2.1598 - accuracy: 0.7577\n",
            "Epoch 9/13\n",
            "10/10 [==============================] - 0s 32ms/step - loss: 1.9831 - accuracy: 0.7840\n",
            "Epoch 10/13\n",
            "10/10 [==============================] - 0s 33ms/step - loss: 1.7865 - accuracy: 0.7981\n",
            "Epoch 11/13\n",
            "10/10 [==============================] - 0s 32ms/step - loss: 1.6896 - accuracy: 0.8134\n",
            "Epoch 12/13\n",
            "10/10 [==============================] - 0s 36ms/step - loss: 1.3213 - accuracy: 0.8324\n",
            "Epoch 13/13\n",
            "10/10 [==============================] - 0s 32ms/step - loss: 1.1846 - accuracy: 0.8467\n",
            "3/3 [==============================] - 0s 10ms/step - loss: 1.5677 - accuracy: 0.8033\n",
            "\n",
            "Accuracy: 0.8033\n",
            "Precision: 0.7884\n",
            "Recall = 0.8167\n",
            "F1 score: 0.7982\n",
            "\n"
          ]
        }
      ]
    },
    {
      "cell_type": "code",
      "source": [],
      "metadata": {
        "id": "FAUJr2iu8SBD"
      },
      "execution_count": null,
      "outputs": []
    }
  ],
  "metadata": {
    "colab": {
      "provenance": []
    },
    "kernelspec": {
      "display_name": "Python 3",
      "name": "python3"
    },
    "language_info": {
      "name": "python"
    }
  },
  "nbformat": 4,
  "nbformat_minor": 0
}